{
  "nbformat": 4,
  "nbformat_minor": 0,
  "metadata": {
    "colab": {
      "name": "Binary Classifier - Pytorch.ipynb",
      "provenance": [],
      "collapsed_sections": [],
      "toc_visible": true,
      "include_colab_link": true
    },
    "kernelspec": {
      "name": "python3",
      "display_name": "Python 3"
    },
    "language_info": {
      "name": "python"
    }
  },
  "cells": [
    {
      "cell_type": "markdown",
      "metadata": {
        "id": "view-in-github",
        "colab_type": "text"
      },
      "source": [
        "<a href=\"https://colab.research.google.com/github/JacoboGGLeon/pipeline/blob/main/Binary%20Classifier.ipynb\" target=\"_parent\"><img src=\"https://colab.research.google.com/assets/colab-badge.svg\" alt=\"Open In Colab\"/></a>"
      ]
    },
    {
      "cell_type": "markdown",
      "metadata": {
        "id": "YSzTMBpd3WKY"
      },
      "source": [
        "# Classifier: Binary Classifier with Pytorch"
      ]
    },
    {
      "cell_type": "markdown",
      "metadata": {
        "id": "4m82Icgyu0pO"
      },
      "source": [
        "## References\n",
        "\n",
        "* [Modeling Pipeline Optimization With scikit-learn](https://machinelearningmastery.com/modeling-pipeline-optimization-with-scikit-learn/)\n",
        "\n",
        "--------\n",
        "\n",
        "## Aditional resources:\n",
        "* [Sherin Thomas explains how to build a pipeline in PyTorch for deep learning workflows]()\n",
        "\n",
        "\n"
      ]
    },
    {
      "cell_type": "markdown",
      "metadata": {
        "id": "GJgb54pu0Xeu"
      },
      "source": [
        "## Notebook"
      ]
    },
    {
      "cell_type": "markdown",
      "metadata": {
        "id": "YJZTtNol8Et-"
      },
      "source": [
        "### Noteboook requeriments"
      ]
    },
    {
      "cell_type": "code",
      "metadata": {
        "colab": {
          "base_uri": "https://localhost:8080/"
        },
        "id": "g_HNCeNVNvuh",
        "outputId": "55e3c6c8-2c3c-4e1d-a70f-1646ea19a08c"
      },
      "source": [
        "!pip install torchviz"
      ],
      "execution_count": null,
      "outputs": [
        {
          "output_type": "stream",
          "text": [
            "Requirement already satisfied: torchviz in /usr/local/lib/python3.7/dist-packages (0.0.2)\n",
            "Requirement already satisfied: graphviz in /usr/local/lib/python3.7/dist-packages (from torchviz) (0.10.1)\n",
            "Requirement already satisfied: torch in /usr/local/lib/python3.7/dist-packages (from torchviz) (1.9.0+cu102)\n",
            "Requirement already satisfied: typing-extensions in /usr/local/lib/python3.7/dist-packages (from torch->torchviz) (3.7.4.3)\n"
          ],
          "name": "stdout"
        }
      ]
    },
    {
      "cell_type": "markdown",
      "metadata": {
        "id": "IfnpguBM8QGQ"
      },
      "source": [
        "### Load libraries"
      ]
    },
    {
      "cell_type": "code",
      "metadata": {
        "id": "BdnoUez2DjXt"
      },
      "source": [
        "#importing the libraries\n",
        "import torch\n",
        "import numpy as np\n",
        "import matplotlib.pyplot as plt\n",
        "\n",
        "import torchviz as tv"
      ],
      "execution_count": null,
      "outputs": []
    },
    {
      "cell_type": "markdown",
      "metadata": {
        "id": "Z2mlA-Hc8TPV"
      },
      "source": [
        "### Load data"
      ]
    },
    {
      "cell_type": "code",
      "metadata": {
        "colab": {
          "base_uri": "https://localhost:8080/"
        },
        "id": "s_-3Q8SUD4yj",
        "outputId": "5869199f-dceb-46da-ac22-8c06c13cd658"
      },
      "source": [
        "#importing the dataset\n",
        "from sklearn.datasets import load_breast_cancer\n",
        "data = load_breast_cancer()\n",
        "x = data['data']\n",
        "y = data['target']\n",
        "print(\"shape of x: {}\\nshape of y: {}\".format(x.shape,y.shape))"
      ],
      "execution_count": null,
      "outputs": [
        {
          "output_type": "stream",
          "text": [
            "shape of x: (569, 30)\n",
            "shape of y: (569,)\n"
          ],
          "name": "stdout"
        }
      ]
    },
    {
      "cell_type": "markdown",
      "metadata": {
        "id": "Y0cOsoc-8WBq"
      },
      "source": [
        "### Preprocess data"
      ]
    },
    {
      "cell_type": "code",
      "metadata": {
        "id": "TGtVSSH5D8Et"
      },
      "source": [
        "#feature scaling\n",
        "from sklearn.preprocessing import StandardScaler\n",
        "sc = StandardScaler()\n",
        "x = sc.fit_transform(x)"
      ],
      "execution_count": null,
      "outputs": []
    },
    {
      "cell_type": "code",
      "metadata": {
        "id": "u-HG2fBVEAYc"
      },
      "source": [
        "#defining dataset class\n",
        "from torch.utils.data import Dataset, DataLoader\n",
        "class dataset(Dataset):\n",
        "  def __init__(self,x,y):\n",
        "    self.x = torch.tensor(x,dtype=torch.float32)\n",
        "    self.y = torch.tensor(y,dtype=torch.float32)\n",
        "    self.length = self.x.shape[0]\n",
        " \n",
        "  def __getitem__(self,idx):\n",
        "    return self.x[idx],self.y[idx]\n",
        "  def __len__(self):\n",
        "    return self.length\n"
      ],
      "execution_count": null,
      "outputs": []
    },
    {
      "cell_type": "code",
      "metadata": {
        "id": "RQNO8zEwa7Yn"
      },
      "source": [
        "trainset = dataset(x,y)\n",
        "#DataLoader\n",
        "trainloader = DataLoader(trainset,batch_size=64,shuffle=False)"
      ],
      "execution_count": null,
      "outputs": []
    },
    {
      "cell_type": "markdown",
      "metadata": {
        "id": "bgVqkt1m8cFE"
      },
      "source": [
        "### Modeling"
      ]
    },
    {
      "cell_type": "code",
      "metadata": {
        "id": "WkSP15i-EFXM"
      },
      "source": [
        "#defining the network\n",
        "from torch import nn\n",
        "from torch.nn import functional as F\n",
        "class Net(nn.Module):\n",
        "  def __init__(self,input_shape):\n",
        "    super(Net,self).__init__()\n",
        "    self.fc1 = nn.Linear(input_shape,32)\n",
        "    self.fc2 = nn.Linear(32,64)\n",
        "    self.fc3 = nn.Linear(64,1)\n",
        "  \n",
        "  def forward(self,x):\n",
        "    x = torch.relu(self.fc1(x))\n",
        "    x = torch.relu(self.fc2(x))\n",
        "    x = torch.sigmoid(self.fc3(x))\n",
        "    return x\n"
      ],
      "execution_count": null,
      "outputs": []
    },
    {
      "cell_type": "code",
      "metadata": {
        "id": "ucl8zjqpEH5S"
      },
      "source": [
        "#hyper parameters\n",
        "learning_rate = 0.01\n",
        "epochs = 700\n",
        "\n",
        "# Model , Optimizer, Loss\n",
        "model = Net(input_shape=x.shape[1])\n",
        "optimizer = torch.optim.SGD(model.parameters(),lr=learning_rate)\n",
        "loss_fn = nn.BCELoss() # "
      ],
      "execution_count": null,
      "outputs": []
    },
    {
      "cell_type": "markdown",
      "metadata": {
        "id": "xN-1ob9S9Q3w"
      },
      "source": [
        "#### Train"
      ]
    },
    {
      "cell_type": "code",
      "metadata": {
        "colab": {
          "base_uri": "https://localhost:8080/"
        },
        "id": "GLFXTMimENXt",
        "outputId": "c4c4e09f-2213-4375-f73f-320a408ff9bc"
      },
      "source": [
        "#forward loop\n",
        "losses = []\n",
        "accur = []\n",
        "for i in range(epochs):\n",
        "  for j,(x_train,y_train) in enumerate(trainloader):\n",
        "    \n",
        "    #calculate output\n",
        "    output = model(x_train)\n",
        "\n",
        "    tv.make_dot(output.mean(), params=dict(model.named_parameters()), show_attrs=True)\n",
        " \n",
        "    #calculate loss\n",
        "    loss = loss_fn(output,y_train.reshape(-1,1))\n",
        " \n",
        "    #accuracy\n",
        "    predicted = model(torch.tensor(x,dtype=torch.float32))\n",
        "    acc = (predicted.reshape(-1).detach().numpy().round() == y).mean()\n",
        "    #backprop\n",
        "    optimizer.zero_grad()\n",
        "    loss.backward()\n",
        "    optimizer.step()\n",
        "\n",
        "  if i%50 == 0:\n",
        "    losses.append(loss)\n",
        "    accur.append(acc)\n",
        "    print(\"epoch {}\\tloss : {}\\t accuracy : {}\".format(i,loss,acc))"
      ],
      "execution_count": null,
      "outputs": [
        {
          "output_type": "stream",
          "text": [
            "epoch 0\tloss : 0.014197537675499916\t accuracy : 0.9964850615114236\n",
            "epoch 50\tloss : 0.01347027625888586\t accuracy : 0.9964850615114236\n",
            "epoch 100\tloss : 0.012796654365956783\t accuracy : 0.9964850615114236\n",
            "epoch 150\tloss : 0.012153781950473785\t accuracy : 0.9964850615114236\n",
            "epoch 200\tloss : 0.011540776118636131\t accuracy : 0.9982425307557118\n",
            "epoch 250\tloss : 0.010967917740345001\t accuracy : 0.9982425307557118\n",
            "epoch 300\tloss : 0.010420945473015308\t accuracy : 1.0\n",
            "epoch 350\tloss : 0.009915405884385109\t accuracy : 1.0\n",
            "epoch 400\tloss : 0.009453307837247849\t accuracy : 1.0\n",
            "epoch 450\tloss : 0.00900191068649292\t accuracy : 1.0\n",
            "epoch 500\tloss : 0.008587311953306198\t accuracy : 1.0\n",
            "epoch 550\tloss : 0.008207677863538265\t accuracy : 1.0\n",
            "epoch 600\tloss : 0.007832941599190235\t accuracy : 1.0\n",
            "epoch 650\tloss : 0.007485290057957172\t accuracy : 1.0\n"
          ],
          "name": "stdout"
        }
      ]
    },
    {
      "cell_type": "code",
      "metadata": {
        "colab": {
          "base_uri": "https://localhost:8080/",
          "height": 894
        },
        "id": "0OjGZOWRQZMF",
        "outputId": "e174763c-c303-402c-9913-3fbf8e649ef1"
      },
      "source": [
        "tv.make_dot(output.mean(), params=dict(model.named_parameters()))"
      ],
      "execution_count": null,
      "outputs": [
        {
          "output_type": "execute_result",
          "data": {
            "text/plain": [
              "<graphviz.dot.Digraph at 0x7f73170814d0>"
            ],
            "image/svg+xml": "<?xml version=\"1.0\" encoding=\"UTF-8\" standalone=\"no\"?>\n<!DOCTYPE svg PUBLIC \"-//W3C//DTD SVG 1.1//EN\"\n \"http://www.w3.org/Graphics/SVG/1.1/DTD/svg11.dtd\">\n<!-- Generated by graphviz version 2.40.1 (20161225.0304)\n -->\n<!-- Title: %3 Pages: 1 -->\n<svg width=\"408pt\" height=\"655pt\"\n viewBox=\"0.00 0.00 408.00 655.00\" xmlns=\"http://www.w3.org/2000/svg\" xmlns:xlink=\"http://www.w3.org/1999/xlink\">\n<g id=\"graph0\" class=\"graph\" transform=\"scale(1 1) rotate(0) translate(4 651)\">\n<title>%3</title>\n<polygon fill=\"#ffffff\" stroke=\"transparent\" points=\"-4,4 -4,-651 404,-651 404,4 -4,4\"/>\n<!-- 140132283714848 -->\n<g id=\"node1\" class=\"node\">\n<title>140132283714848</title>\n<polygon fill=\"#caff70\" stroke=\"#000000\" points=\"229.5,-31 175.5,-31 175.5,0 229.5,0 229.5,-31\"/>\n<text text-anchor=\"middle\" x=\"202.5\" y=\"-7\" font-family=\"monospace\" font-size=\"10.00\" fill=\"#000000\"> ()</text>\n</g>\n<!-- 140132284373520 -->\n<g id=\"node2\" class=\"node\">\n<title>140132284373520</title>\n<polygon fill=\"#d3d3d3\" stroke=\"#000000\" points=\"250,-86 155,-86 155,-67 250,-67 250,-86\"/>\n<text text-anchor=\"middle\" x=\"202.5\" y=\"-74\" font-family=\"monospace\" font-size=\"10.00\" fill=\"#000000\">MeanBackward0</text>\n</g>\n<!-- 140132284373520&#45;&gt;140132283714848 -->\n<g id=\"edge22\" class=\"edge\">\n<title>140132284373520&#45;&gt;140132283714848</title>\n<path fill=\"none\" stroke=\"#000000\" d=\"M202.5,-66.9688C202.5,-60.1289 202.5,-50.5621 202.5,-41.5298\"/>\n<polygon fill=\"#000000\" stroke=\"#000000\" points=\"206.0001,-41.3678 202.5,-31.3678 199.0001,-41.3678 206.0001,-41.3678\"/>\n</g>\n<!-- 140132283725776 -->\n<g id=\"node3\" class=\"node\">\n<title>140132283725776</title>\n<polygon fill=\"#d3d3d3\" stroke=\"#000000\" points=\"256,-141 149,-141 149,-122 256,-122 256,-141\"/>\n<text text-anchor=\"middle\" x=\"202.5\" y=\"-129\" font-family=\"monospace\" font-size=\"10.00\" fill=\"#000000\">SigmoidBackward</text>\n</g>\n<!-- 140132283725776&#45;&gt;140132284373520 -->\n<g id=\"edge1\" class=\"edge\">\n<title>140132283725776&#45;&gt;140132284373520</title>\n<path fill=\"none\" stroke=\"#000000\" d=\"M202.5,-121.9197C202.5,-114.9083 202.5,-105.1442 202.5,-96.4652\"/>\n<polygon fill=\"#000000\" stroke=\"#000000\" points=\"206.0001,-96.3408 202.5,-86.3408 199.0001,-96.3409 206.0001,-96.3408\"/>\n</g>\n<!-- 140132283726864 -->\n<g id=\"node4\" class=\"node\">\n<title>140132283726864</title>\n<polygon fill=\"#d3d3d3\" stroke=\"#000000\" points=\"250,-196 155,-196 155,-177 250,-177 250,-196\"/>\n<text text-anchor=\"middle\" x=\"202.5\" y=\"-184\" font-family=\"monospace\" font-size=\"10.00\" fill=\"#000000\">AddmmBackward</text>\n</g>\n<!-- 140132283726864&#45;&gt;140132283725776 -->\n<g id=\"edge2\" class=\"edge\">\n<title>140132283726864&#45;&gt;140132283725776</title>\n<path fill=\"none\" stroke=\"#000000\" d=\"M202.5,-176.9197C202.5,-169.9083 202.5,-160.1442 202.5,-151.4652\"/>\n<polygon fill=\"#000000\" stroke=\"#000000\" points=\"206.0001,-151.3408 202.5,-141.3408 199.0001,-151.3409 206.0001,-151.3408\"/>\n</g>\n<!-- 140132284379664 -->\n<g id=\"node5\" class=\"node\">\n<title>140132284379664</title>\n<polygon fill=\"#d3d3d3\" stroke=\"#000000\" points=\"137,-251 36,-251 36,-232 137,-232 137,-251\"/>\n<text text-anchor=\"middle\" x=\"86.5\" y=\"-239\" font-family=\"monospace\" font-size=\"10.00\" fill=\"#000000\">AccumulateGrad</text>\n</g>\n<!-- 140132284379664&#45;&gt;140132283726864 -->\n<g id=\"edge3\" class=\"edge\">\n<title>140132284379664&#45;&gt;140132283726864</title>\n<path fill=\"none\" stroke=\"#000000\" d=\"M106.7057,-231.9197C124.9737,-223.2581 152.1018,-210.3957 172.8304,-200.5675\"/>\n<polygon fill=\"#000000\" stroke=\"#000000\" points=\"174.6004,-203.6018 182.1367,-196.155 171.6014,-197.2768 174.6004,-203.6018\"/>\n</g>\n<!-- 140132284360976 -->\n<g id=\"node6\" class=\"node\">\n<title>140132284360976</title>\n<polygon fill=\"#add8e6\" stroke=\"#000000\" points=\"119,-317 54,-317 54,-287 119,-287 119,-317\"/>\n<text text-anchor=\"middle\" x=\"86.5\" y=\"-305\" font-family=\"monospace\" font-size=\"10.00\" fill=\"#000000\">fc3.bias</text>\n<text text-anchor=\"middle\" x=\"86.5\" y=\"-294\" font-family=\"monospace\" font-size=\"10.00\" fill=\"#000000\"> (1)</text>\n</g>\n<!-- 140132284360976&#45;&gt;140132284379664 -->\n<g id=\"edge4\" class=\"edge\">\n<title>140132284360976&#45;&gt;140132284379664</title>\n<path fill=\"none\" stroke=\"#000000\" d=\"M86.5,-286.7333C86.5,-279.0322 86.5,-269.5977 86.5,-261.3414\"/>\n<polygon fill=\"#000000\" stroke=\"#000000\" points=\"90.0001,-261.0864 86.5,-251.0864 83.0001,-261.0864 90.0001,-261.0864\"/>\n</g>\n<!-- 140132283726672 -->\n<g id=\"node7\" class=\"node\">\n<title>140132283726672</title>\n<polygon fill=\"#d3d3d3\" stroke=\"#000000\" points=\"250,-251 155,-251 155,-232 250,-232 250,-251\"/>\n<text text-anchor=\"middle\" x=\"202.5\" y=\"-239\" font-family=\"monospace\" font-size=\"10.00\" fill=\"#000000\">ReluBackward0</text>\n</g>\n<!-- 140132283726672&#45;&gt;140132283726864 -->\n<g id=\"edge5\" class=\"edge\">\n<title>140132283726672&#45;&gt;140132283726864</title>\n<path fill=\"none\" stroke=\"#000000\" d=\"M202.5,-231.9197C202.5,-224.9083 202.5,-215.1442 202.5,-206.4652\"/>\n<polygon fill=\"#000000\" stroke=\"#000000\" points=\"206.0001,-206.3408 202.5,-196.3408 199.0001,-206.3409 206.0001,-206.3408\"/>\n</g>\n<!-- 140132283724880 -->\n<g id=\"node8\" class=\"node\">\n<title>140132283724880</title>\n<polygon fill=\"#d3d3d3\" stroke=\"#000000\" points=\"233,-311.5 138,-311.5 138,-292.5 233,-292.5 233,-311.5\"/>\n<text text-anchor=\"middle\" x=\"185.5\" y=\"-299.5\" font-family=\"monospace\" font-size=\"10.00\" fill=\"#000000\">AddmmBackward</text>\n</g>\n<!-- 140132283724880&#45;&gt;140132283726672 -->\n<g id=\"edge6\" class=\"edge\">\n<title>140132283724880&#45;&gt;140132283726672</title>\n<path fill=\"none\" stroke=\"#000000\" d=\"M188.2313,-292.2796C190.5719,-283.9499 194.0174,-271.688 196.9363,-261.3004\"/>\n<polygon fill=\"#000000\" stroke=\"#000000\" points=\"200.3832,-261.9712 199.719,-251.3972 193.6442,-260.0776 200.3832,-261.9712\"/>\n</g>\n<!-- 140132284381520 -->\n<g id=\"node9\" class=\"node\">\n<title>140132284381520</title>\n<polygon fill=\"#d3d3d3\" stroke=\"#000000\" points=\"101,-377.5 0,-377.5 0,-358.5 101,-358.5 101,-377.5\"/>\n<text text-anchor=\"middle\" x=\"50.5\" y=\"-365.5\" font-family=\"monospace\" font-size=\"10.00\" fill=\"#000000\">AccumulateGrad</text>\n</g>\n<!-- 140132284381520&#45;&gt;140132283724880 -->\n<g id=\"edge7\" class=\"edge\">\n<title>140132284381520&#45;&gt;140132283724880</title>\n<path fill=\"none\" stroke=\"#000000\" d=\"M70.1302,-358.403C92.9258,-347.2585 130.7283,-328.7773 156.8149,-316.0238\"/>\n<polygon fill=\"#000000\" stroke=\"#000000\" points=\"158.3995,-319.1451 165.8461,-311.6085 155.325,-312.8564 158.3995,-319.1451\"/>\n</g>\n<!-- 140132284359536 -->\n<g id=\"node10\" class=\"node\">\n<title>140132284359536</title>\n<polygon fill=\"#add8e6\" stroke=\"#000000\" points=\"83,-449 18,-449 18,-419 83,-419 83,-449\"/>\n<text text-anchor=\"middle\" x=\"50.5\" y=\"-437\" font-family=\"monospace\" font-size=\"10.00\" fill=\"#000000\">fc2.bias</text>\n<text text-anchor=\"middle\" x=\"50.5\" y=\"-426\" font-family=\"monospace\" font-size=\"10.00\" fill=\"#000000\"> (64)</text>\n</g>\n<!-- 140132284359536&#45;&gt;140132284381520 -->\n<g id=\"edge8\" class=\"edge\">\n<title>140132284359536&#45;&gt;140132284381520</title>\n<path fill=\"none\" stroke=\"#000000\" d=\"M50.5,-418.6924C50.5,-409.5067 50.5,-397.7245 50.5,-387.8312\"/>\n<polygon fill=\"#000000\" stroke=\"#000000\" points=\"54.0001,-387.703 50.5,-377.7031 47.0001,-387.7031 54.0001,-387.703\"/>\n</g>\n<!-- 140132283727376 -->\n<g id=\"node11\" class=\"node\">\n<title>140132283727376</title>\n<polygon fill=\"#d3d3d3\" stroke=\"#000000\" points=\"214,-377.5 119,-377.5 119,-358.5 214,-358.5 214,-377.5\"/>\n<text text-anchor=\"middle\" x=\"166.5\" y=\"-365.5\" font-family=\"monospace\" font-size=\"10.00\" fill=\"#000000\">ReluBackward0</text>\n</g>\n<!-- 140132283727376&#45;&gt;140132283724880 -->\n<g id=\"edge9\" class=\"edge\">\n<title>140132283727376&#45;&gt;140132283724880</title>\n<path fill=\"none\" stroke=\"#000000\" d=\"M169.3035,-358.2615C172.0819,-348.6102 176.4151,-333.558 179.9006,-321.4506\"/>\n<polygon fill=\"#000000\" stroke=\"#000000\" points=\"183.2819,-322.3565 182.685,-311.7785 176.5551,-320.4199 183.2819,-322.3565\"/>\n</g>\n<!-- 140132283723984 -->\n<g id=\"node12\" class=\"node\">\n<title>140132283723984</title>\n<polygon fill=\"#d3d3d3\" stroke=\"#000000\" points=\"206,-443.5 111,-443.5 111,-424.5 206,-424.5 206,-443.5\"/>\n<text text-anchor=\"middle\" x=\"158.5\" y=\"-431.5\" font-family=\"monospace\" font-size=\"10.00\" fill=\"#000000\">AddmmBackward</text>\n</g>\n<!-- 140132283723984&#45;&gt;140132283727376 -->\n<g id=\"edge10\" class=\"edge\">\n<title>140132283723984&#45;&gt;140132283727376</title>\n<path fill=\"none\" stroke=\"#000000\" d=\"M159.6804,-424.2615C160.8385,-414.7077 162.638,-399.8615 164.0978,-387.8183\"/>\n<polygon fill=\"#000000\" stroke=\"#000000\" points=\"167.5859,-388.127 165.3147,-377.7785 160.6368,-387.2846 167.5859,-388.127\"/>\n</g>\n<!-- 140132284380112 -->\n<g id=\"node13\" class=\"node\">\n<title>140132284380112</title>\n<polygon fill=\"#d3d3d3\" stroke=\"#000000\" points=\"117,-509.5 16,-509.5 16,-490.5 117,-490.5 117,-509.5\"/>\n<text text-anchor=\"middle\" x=\"66.5\" y=\"-497.5\" font-family=\"monospace\" font-size=\"10.00\" fill=\"#000000\">AccumulateGrad</text>\n</g>\n<!-- 140132284380112&#45;&gt;140132283723984 -->\n<g id=\"edge11\" class=\"edge\">\n<title>140132284380112&#45;&gt;140132283723984</title>\n<path fill=\"none\" stroke=\"#000000\" d=\"M80.0749,-490.2615C94.9722,-479.5743 119.1011,-462.2644 136.6655,-449.6639\"/>\n<polygon fill=\"#000000\" stroke=\"#000000\" points=\"139.0833,-452.2369 145.1685,-443.5639 135.0029,-446.5491 139.0833,-452.2369\"/>\n</g>\n<!-- 140132284332704 -->\n<g id=\"node14\" class=\"node\">\n<title>140132284332704</title>\n<polygon fill=\"#add8e6\" stroke=\"#000000\" points=\"99,-581 34,-581 34,-551 99,-551 99,-581\"/>\n<text text-anchor=\"middle\" x=\"66.5\" y=\"-569\" font-family=\"monospace\" font-size=\"10.00\" fill=\"#000000\">fc1.bias</text>\n<text text-anchor=\"middle\" x=\"66.5\" y=\"-558\" font-family=\"monospace\" font-size=\"10.00\" fill=\"#000000\"> (32)</text>\n</g>\n<!-- 140132284332704&#45;&gt;140132284380112 -->\n<g id=\"edge12\" class=\"edge\">\n<title>140132284332704&#45;&gt;140132284380112</title>\n<path fill=\"none\" stroke=\"#000000\" d=\"M66.5,-550.6924C66.5,-541.5067 66.5,-529.7245 66.5,-519.8312\"/>\n<polygon fill=\"#000000\" stroke=\"#000000\" points=\"70.0001,-519.703 66.5,-509.7031 63.0001,-519.7031 70.0001,-519.703\"/>\n</g>\n<!-- 140132283725648 -->\n<g id=\"node15\" class=\"node\">\n<title>140132283725648</title>\n<polygon fill=\"#d3d3d3\" stroke=\"#000000\" points=\"206,-509.5 135,-509.5 135,-490.5 206,-490.5 206,-509.5\"/>\n<text text-anchor=\"middle\" x=\"170.5\" y=\"-497.5\" font-family=\"monospace\" font-size=\"10.00\" fill=\"#000000\">TBackward</text>\n</g>\n<!-- 140132283725648&#45;&gt;140132283723984 -->\n<g id=\"edge13\" class=\"edge\">\n<title>140132283725648&#45;&gt;140132283723984</title>\n<path fill=\"none\" stroke=\"#000000\" d=\"M168.7294,-490.2615C166.9923,-480.7077 164.293,-465.8615 162.1033,-453.8183\"/>\n<polygon fill=\"#000000\" stroke=\"#000000\" points=\"165.5104,-452.9911 160.2779,-443.7785 158.6233,-454.2433 165.5104,-452.9911\"/>\n</g>\n<!-- 140132284380240 -->\n<g id=\"node16\" class=\"node\">\n<title>140132284380240</title>\n<polygon fill=\"#d3d3d3\" stroke=\"#000000\" points=\"221,-575.5 120,-575.5 120,-556.5 221,-556.5 221,-575.5\"/>\n<text text-anchor=\"middle\" x=\"170.5\" y=\"-563.5\" font-family=\"monospace\" font-size=\"10.00\" fill=\"#000000\">AccumulateGrad</text>\n</g>\n<!-- 140132284380240&#45;&gt;140132283725648 -->\n<g id=\"edge14\" class=\"edge\">\n<title>140132284380240&#45;&gt;140132283725648</title>\n<path fill=\"none\" stroke=\"#000000\" d=\"M170.5,-556.2615C170.5,-546.7077 170.5,-531.8615 170.5,-519.8183\"/>\n<polygon fill=\"#000000\" stroke=\"#000000\" points=\"174.0001,-519.7784 170.5,-509.7785 167.0001,-519.7785 174.0001,-519.7784\"/>\n</g>\n<!-- 140132284332064 -->\n<g id=\"node17\" class=\"node\">\n<title>140132284332064</title>\n<polygon fill=\"#add8e6\" stroke=\"#000000\" points=\"209,-647 132,-647 132,-617 209,-617 209,-647\"/>\n<text text-anchor=\"middle\" x=\"170.5\" y=\"-635\" font-family=\"monospace\" font-size=\"10.00\" fill=\"#000000\">fc1.weight</text>\n<text text-anchor=\"middle\" x=\"170.5\" y=\"-624\" font-family=\"monospace\" font-size=\"10.00\" fill=\"#000000\"> (32, 30)</text>\n</g>\n<!-- 140132284332064&#45;&gt;140132284380240 -->\n<g id=\"edge15\" class=\"edge\">\n<title>140132284332064&#45;&gt;140132284380240</title>\n<path fill=\"none\" stroke=\"#000000\" d=\"M170.5,-616.6924C170.5,-607.5067 170.5,-595.7245 170.5,-585.8312\"/>\n<polygon fill=\"#000000\" stroke=\"#000000\" points=\"174.0001,-585.703 170.5,-575.7031 167.0001,-585.7031 174.0001,-585.703\"/>\n</g>\n<!-- 140132283725328 -->\n<g id=\"node18\" class=\"node\">\n<title>140132283725328</title>\n<polygon fill=\"#d3d3d3\" stroke=\"#000000\" points=\"303,-377.5 232,-377.5 232,-358.5 303,-358.5 303,-377.5\"/>\n<text text-anchor=\"middle\" x=\"267.5\" y=\"-365.5\" font-family=\"monospace\" font-size=\"10.00\" fill=\"#000000\">TBackward</text>\n</g>\n<!-- 140132283725328&#45;&gt;140132283724880 -->\n<g id=\"edge16\" class=\"edge\">\n<title>140132283725328&#45;&gt;140132283724880</title>\n<path fill=\"none\" stroke=\"#000000\" d=\"M255.4006,-358.2615C242.2444,-347.6723 221.0104,-330.5815 205.3935,-318.0119\"/>\n<polygon fill=\"#000000\" stroke=\"#000000\" points=\"207.3671,-315.1075 197.3824,-311.5639 202.978,-320.5606 207.3671,-315.1075\"/>\n</g>\n<!-- 140132284381072 -->\n<g id=\"node19\" class=\"node\">\n<title>140132284381072</title>\n<polygon fill=\"#d3d3d3\" stroke=\"#000000\" points=\"325,-443.5 224,-443.5 224,-424.5 325,-424.5 325,-443.5\"/>\n<text text-anchor=\"middle\" x=\"274.5\" y=\"-431.5\" font-family=\"monospace\" font-size=\"10.00\" fill=\"#000000\">AccumulateGrad</text>\n</g>\n<!-- 140132284381072&#45;&gt;140132283725328 -->\n<g id=\"edge17\" class=\"edge\">\n<title>140132284381072&#45;&gt;140132283725328</title>\n<path fill=\"none\" stroke=\"#000000\" d=\"M273.4671,-424.2615C272.4538,-414.7077 270.8793,-399.8615 269.6019,-387.8183\"/>\n<polygon fill=\"#000000\" stroke=\"#000000\" points=\"273.0724,-387.3535 268.5371,-377.7785 266.1114,-388.0919 273.0724,-387.3535\"/>\n</g>\n<!-- 140132284332464 -->\n<g id=\"node20\" class=\"node\">\n<title>140132284332464</title>\n<polygon fill=\"#add8e6\" stroke=\"#000000\" points=\"313,-515 236,-515 236,-485 313,-485 313,-515\"/>\n<text text-anchor=\"middle\" x=\"274.5\" y=\"-503\" font-family=\"monospace\" font-size=\"10.00\" fill=\"#000000\">fc2.weight</text>\n<text text-anchor=\"middle\" x=\"274.5\" y=\"-492\" font-family=\"monospace\" font-size=\"10.00\" fill=\"#000000\"> (64, 32)</text>\n</g>\n<!-- 140132284332464&#45;&gt;140132284381072 -->\n<g id=\"edge18\" class=\"edge\">\n<title>140132284332464&#45;&gt;140132284381072</title>\n<path fill=\"none\" stroke=\"#000000\" d=\"M274.5,-484.6924C274.5,-475.5067 274.5,-463.7245 274.5,-453.8312\"/>\n<polygon fill=\"#000000\" stroke=\"#000000\" points=\"278.0001,-453.703 274.5,-443.7031 271.0001,-453.7031 278.0001,-453.703\"/>\n</g>\n<!-- 140132283727568 -->\n<g id=\"node21\" class=\"node\">\n<title>140132283727568</title>\n<polygon fill=\"#d3d3d3\" stroke=\"#000000\" points=\"376,-251 305,-251 305,-232 376,-232 376,-251\"/>\n<text text-anchor=\"middle\" x=\"340.5\" y=\"-239\" font-family=\"monospace\" font-size=\"10.00\" fill=\"#000000\">TBackward</text>\n</g>\n<!-- 140132283727568&#45;&gt;140132283726864 -->\n<g id=\"edge19\" class=\"edge\">\n<title>140132283727568&#45;&gt;140132283726864</title>\n<path fill=\"none\" stroke=\"#000000\" d=\"M316.4622,-231.9197C294.2378,-223.0622 260.9907,-209.8115 236.1348,-199.9052\"/>\n<polygon fill=\"#000000\" stroke=\"#000000\" points=\"237.3106,-196.6061 226.7253,-196.155 234.7189,-203.1087 237.3106,-196.6061\"/>\n</g>\n<!-- 140132284379920 -->\n<g id=\"node22\" class=\"node\">\n<title>140132284379920</title>\n<polygon fill=\"#d3d3d3\" stroke=\"#000000\" points=\"400,-311.5 299,-311.5 299,-292.5 400,-292.5 400,-311.5\"/>\n<text text-anchor=\"middle\" x=\"349.5\" y=\"-299.5\" font-family=\"monospace\" font-size=\"10.00\" fill=\"#000000\">AccumulateGrad</text>\n</g>\n<!-- 140132284379920&#45;&gt;140132283727568 -->\n<g id=\"edge20\" class=\"edge\">\n<title>140132284379920&#45;&gt;140132283727568</title>\n<path fill=\"none\" stroke=\"#000000\" d=\"M348.054,-292.2796C346.8149,-283.9499 344.9908,-271.688 343.4455,-261.3004\"/>\n<polygon fill=\"#000000\" stroke=\"#000000\" points=\"346.9057,-260.7734 341.9723,-251.3972 339.9819,-261.8034 346.9057,-260.7734\"/>\n</g>\n<!-- 140132284359936 -->\n<g id=\"node23\" class=\"node\">\n<title>140132284359936</title>\n<polygon fill=\"#add8e6\" stroke=\"#000000\" points=\"398,-383 321,-383 321,-353 398,-353 398,-383\"/>\n<text text-anchor=\"middle\" x=\"359.5\" y=\"-371\" font-family=\"monospace\" font-size=\"10.00\" fill=\"#000000\">fc3.weight</text>\n<text text-anchor=\"middle\" x=\"359.5\" y=\"-360\" font-family=\"monospace\" font-size=\"10.00\" fill=\"#000000\"> (1, 64)</text>\n</g>\n<!-- 140132284359936&#45;&gt;140132284379920 -->\n<g id=\"edge21\" class=\"edge\">\n<title>140132284359936&#45;&gt;140132284379920</title>\n<path fill=\"none\" stroke=\"#000000\" d=\"M357.1807,-352.6924C355.7889,-343.5067 354.0037,-331.7245 352.5047,-321.8312\"/>\n<polygon fill=\"#000000\" stroke=\"#000000\" points=\"355.9288,-321.0659 350.9702,-311.7031 349.0078,-322.1146 355.9288,-321.0659\"/>\n</g>\n</g>\n</svg>\n"
          },
          "metadata": {
            "tags": []
          },
          "execution_count": 55
        }
      ]
    },
    {
      "cell_type": "markdown",
      "metadata": {
        "id": "IxlJ1hfL8z-s"
      },
      "source": [
        "#### Results"
      ]
    },
    {
      "cell_type": "code",
      "metadata": {
        "colab": {
          "base_uri": "https://localhost:8080/",
          "height": 279
        },
        "id": "amgRcKPfYBaP",
        "outputId": "7601f3d7-bc7c-4a4b-c2f6-09e35b13c22e"
      },
      "source": [
        "#plotting the accuracy\n",
        "plt.plot(accur, 'o-', label='accuracy')\n",
        "plt.plot(losses, 'o-', label='validation')\n",
        "#plt.title('Accuracy vs Epochs')\n",
        "plt.xlabel('Epochs')\n",
        "#plt.ylabel('loss')\n",
        "plt.legend()\n",
        "plt.show()"
      ],
      "execution_count": null,
      "outputs": [
        {
          "output_type": "display_data",
          "data": {
            "image/png": "[encoded data removed]",
            "text/plain": [
              "<Figure size 432x288 with 1 Axes>"
            ]
          },
          "metadata": {
            "tags": [],
            "needs_background": "light"
          }
        }
      ]
    },
    {
      "cell_type": "code",
      "metadata": {
        "id": "aWG5xamzNtKj"
      },
      "source": [
        ""
      ],
      "execution_count": null,
      "outputs": []
    }
  ]
}